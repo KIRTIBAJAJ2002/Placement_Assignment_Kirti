{
 "cells": [
  {
   "cell_type": "markdown",
   "id": "f276db0c",
   "metadata": {},
   "source": [
    "Q1.\n",
    "Write a program that takes a string as input, and counts the frequency of each word in the string, there might\n",
    "be repeated characters in the string. Your task is to find the highest frequency and returns the length of the\n",
    "highest-frequency word."
   ]
  },
  {
   "cell_type": "code",
   "execution_count": 26,
   "id": "f0e01eab",
   "metadata": {},
   "outputs": [
    {
     "name": "stdout",
     "output_type": "stream",
     "text": [
      "Length of the highest-frequency word: 5\n"
     ]
    }
   ],
   "source": [
    "def get_highest_freq(input_string):\n",
    "    words = input_string.split()\n",
    "    word_counts = {}\n",
    "    for word in words:\n",
    "        word_counts[word] = word_counts.get(word, 0) + 1\n",
    "\n",
    "    highest_frequency = max(word_counts.values())\n",
    "    highest_frequency_word_length = max(len(word) for word, count in word_counts.items() if count == highest_frequency)\n",
    "\n",
    "    return highest_frequency_word_length\n",
    "\n",
    "input_string = \"write write write all the number from from from 1 to 100\"\n",
    "result = get_highest_freq(input_string)\n",
    "print(\"Length of the highest-frequency word:\", result)\n"
   ]
  },
  {
   "cell_type": "code",
   "execution_count": 27,
   "id": "c316f7a1",
   "metadata": {},
   "outputs": [
    {
     "name": "stdout",
     "output_type": "stream",
     "text": [
      "Length of the highest-frequency word: 6\n"
     ]
    }
   ],
   "source": [
    "def get_highest_freq(input_string):\n",
    "    words = input_string.split()\n",
    "    word_counts = {}\n",
    "    for word in words:\n",
    "        word_counts[word] = word_counts.get(word, 0) + 1\n",
    "\n",
    "    highest_frequency = max(word_counts.values())\n",
    "    highest_frequency_word_length = max(len(word) for word, count in word_counts.items() if count == highest_frequency)\n",
    "\n",
    "    return highest_frequency_word_length\n",
    "\n",
    "input_string = \"write write write the the better better better better code\"\n",
    "result = get_highest_freq(input_string)\n",
    "print(\"Length of the highest-frequency word:\", result)"
   ]
  },
  {
   "cell_type": "code",
   "execution_count": null,
   "id": "605782a3",
   "metadata": {},
   "outputs": [],
   "source": []
  }
 ],
 "metadata": {
  "kernelspec": {
   "display_name": "Python 3 (ipykernel)",
   "language": "python",
   "name": "python3"
  },
  "language_info": {
   "codemirror_mode": {
    "name": "ipython",
    "version": 3
   },
   "file_extension": ".py",
   "mimetype": "text/x-python",
   "name": "python",
   "nbconvert_exporter": "python",
   "pygments_lexer": "ipython3",
   "version": "3.9.13"
  }
 },
 "nbformat": 4,
 "nbformat_minor": 5
}
