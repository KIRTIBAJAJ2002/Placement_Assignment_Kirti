{
 "cells": [
  {
   "cell_type": "code",
   "execution_count": 1,
   "id": "a1b18be4",
   "metadata": {},
   "outputs": [],
   "source": [
    "def is_valid_string(s):\n",
    "    char_count = {}\n",
    "    for char in s:\n",
    "        char_count[char] = char_count.get(char, 0) + 1\n",
    "\n",
    "    values = list(char_count.values())\n",
    "    if len(set(values)) == 1:\n",
    "        return \"YES\"\n",
    "\n",
    "    for count in values:\n",
    "        if values.count(count) == len(values) - 1:\n",
    "            return \"YES\"\n",
    "\n",
    "    return \"NO\"\n"
   ]
  },
  {
   "cell_type": "code",
   "execution_count": 4,
   "id": "7bd916e3",
   "metadata": {},
   "outputs": [
    {
     "name": "stdout",
     "output_type": "stream",
     "text": [
      "YES\n"
     ]
    }
   ],
   "source": [
    "s1 = \"abc\"\n",
    "print(is_valid_string(s1)) \n",
    "\n"
   ]
  },
  {
   "cell_type": "code",
   "execution_count": null,
   "id": "39e8f3d2",
   "metadata": {},
   "outputs": [],
   "source": []
  }
 ],
 "metadata": {
  "kernelspec": {
   "display_name": "Python 3 (ipykernel)",
   "language": "python",
   "name": "python3"
  },
  "language_info": {
   "codemirror_mode": {
    "name": "ipython",
    "version": 3
   },
   "file_extension": ".py",
   "mimetype": "text/x-python",
   "name": "python",
   "nbconvert_exporter": "python",
   "pygments_lexer": "ipython3",
   "version": "3.9.13"
  }
 },
 "nbformat": 4,
 "nbformat_minor": 5
}
