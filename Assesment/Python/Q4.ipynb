{
 "cells": [
  {
   "cell_type": "code",
   "execution_count": 4,
   "id": "578b484a",
   "metadata": {},
   "outputs": [],
   "source": [
    "import requests\n",
    "import pandas as pd"
   ]
  },
  {
   "cell_type": "code",
   "execution_count": 5,
   "id": "6eafe6ed",
   "metadata": {},
   "outputs": [],
   "source": [
    "url = \"https://data.nasa.gov/resource/y77d-th95.json\"\n",
    "response = requests.get(url)\n",
    "data = response.json()\n"
   ]
  },
  {
   "cell_type": "code",
   "execution_count": 7,
   "id": "8153ab63",
   "metadata": {},
   "outputs": [],
   "source": [
    "earth_meteorites = []\n",
    "for i in data:\n",
    "    meteorites = {\n",
    "        'name': i.get('name', ''),\n",
    "        'id': i.get('id', ''),\n",
    "        'nametype': i.get('nametype', ''),\n",
    "        'recclass': i.get('recclass', ''),\n",
    "        'mass': float(i.get('mass', '0')),\n",
    "        'year': i.get('year', ''),\n",
    "        'reclat': float(i.get('reclat', '0')),\n",
    "        'reclong': float(i.get('reclong', '0')),\n",
    "        'coordinates': [int(i.get('geolocation', {}).get('latitude', '0')),\n",
    "                        int(i.get('geolocation', {}).get('longitude', '0'))]\n",
    "        \n",
    "        \n",
    "}\n",
    "    \n",
    "    earth_meteorites.append(meteorites)\n",
    "#converting the data into dataframe\n",
    "df = pd.DataFrame(earth_meteorites)\n",
    "   \n",
    "    \n",
    "    "
   ]
  },
  {
   "cell_type": "code",
   "execution_count": 11,
   "id": "16e1f22e",
   "metadata": {},
   "outputs": [],
   "source": [
    "output=\"earth_meteorites.csv\"\n",
    "df.to_csv(output, index=False)"
   ]
  },
  {
   "cell_type": "code",
   "execution_count": 13,
   "id": "31688058",
   "metadata": {},
   "outputs": [
    {
     "name": "stdout",
     "output_type": "stream",
     "text": [
      "data saved to earth_meteorites.csv\n"
     ]
    }
   ],
   "source": [
    "print(f\"data saved to {output}\")"
   ]
  },
  {
   "cell_type": "code",
   "execution_count": null,
   "id": "2a87c338",
   "metadata": {},
   "outputs": [],
   "source": []
  }
 ],
 "metadata": {
  "kernelspec": {
   "display_name": "Python 3 (ipykernel)",
   "language": "python",
   "name": "python3"
  },
  "language_info": {
   "codemirror_mode": {
    "name": "ipython",
    "version": 3
   },
   "file_extension": ".py",
   "mimetype": "text/x-python",
   "name": "python",
   "nbconvert_exporter": "python",
   "pygments_lexer": "ipython3",
   "version": "3.9.13"
  }
 },
 "nbformat": 4,
 "nbformat_minor": 5
}
