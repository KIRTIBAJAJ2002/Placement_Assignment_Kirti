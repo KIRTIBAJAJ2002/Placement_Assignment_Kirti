{
 "cells": [
  {
   "cell_type": "code",
   "execution_count": 13,
   "id": "bce914d8",
   "metadata": {},
   "outputs": [],
   "source": [
    "import pandas as pd\n",
    "import requests"
   ]
  },
  {
   "cell_type": "code",
   "execution_count": 14,
   "id": "c1dd2939",
   "metadata": {},
   "outputs": [],
   "source": [
    "# Download the data from the provided link\n",
    "url= \"https://raw.githubusercontent.com/Biuni/PokemonGO-Pokedex/master/pokedex.json\"\n",
    "response = requests.get(url)\n",
    "data = response.json()"
   ]
  },
  {
   "cell_type": "code",
   "execution_count": 15,
   "id": "234a76f0",
   "metadata": {},
   "outputs": [],
   "source": [
    "pokemon_data = []\n",
    "pokemon_columns = ['id', 'num', 'name', 'img', 'type', 'height', 'weight', 'candy', 'candy_count', 'egg', 'spawn_chance',\n",
    "                   'avg_spawns', 'spawn_time', 'multipliers', 'weaknesses', 'next_evolution', 'prev_evolution']\n"
   ]
  },
  {
   "cell_type": "code",
   "execution_count": 19,
   "id": "407594ae",
   "metadata": {},
   "outputs": [
    {
     "name": "stdout",
     "output_type": "stream",
     "text": [
      "data connverted and saved to pokemon.xlsx\n"
     ]
    }
   ],
   "source": [
    "#Extracting data for each pokemon\n",
    "for i in data[\"pokemon\"]:\n",
    "    pokemon_entry=[]\n",
    "#Extracting data for each pokemon's attribute \n",
    "for i in pokemon_columns:\n",
    "    value=pokemon.get(i)\n",
    "    pokemon_entry.append(value)\n",
    "    pokemon_data.append(pokemon_entry)\n",
    "df=pd.DataFrame(pokemon_data,columns=pokemon_columns)\n",
    "\n",
    "output=\"pokemon.xlsx\"\n",
    "df.to_excel(output, index=False)\n",
    "\n",
    "print(f\"data connverted and saved to {output}\")\n",
    "    \n",
    "    \n",
    "    "
   ]
  },
  {
   "cell_type": "code",
   "execution_count": null,
   "id": "d45acd4f",
   "metadata": {},
   "outputs": [],
   "source": []
  }
 ],
 "metadata": {
  "kernelspec": {
   "display_name": "Python 3 (ipykernel)",
   "language": "python",
   "name": "python3"
  },
  "language_info": {
   "codemirror_mode": {
    "name": "ipython",
    "version": 3
   },
   "file_extension": ".py",
   "mimetype": "text/x-python",
   "name": "python",
   "nbconvert_exporter": "python",
   "pygments_lexer": "ipython3",
   "version": "3.9.13"
  }
 },
 "nbformat": 4,
 "nbformat_minor": 5
}
