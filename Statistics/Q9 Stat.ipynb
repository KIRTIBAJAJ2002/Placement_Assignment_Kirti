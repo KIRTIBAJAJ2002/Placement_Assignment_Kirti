{
 "cells": [
  {
   "cell_type": "code",
   "execution_count": 1,
   "id": "f37fe943",
   "metadata": {},
   "outputs": [
    {
     "name": "stdout",
     "output_type": "stream",
     "text": [
      "F-Statistic: 0.4195338512763594\n",
      "p-value: 0.6666325916008082\n"
     ]
    }
   ],
   "source": [
    "import scipy.stats as stats\n",
    "\n",
    "# Exam scores\n",
    "exam1 = [85, 79, 90, 95, 87]\n",
    "exam2 = [92, 88, 86, 93, 80]\n",
    "exam3 = [78, 91, 82, 89, 84]\n",
    "\n",
    "#ANOVA test used in this code.\n",
    "f_statistic, p_value = stats.f_oneway(exam1, exam2, exam3)\n",
    "\n",
    "# Print the results\n",
    "print(\"F-Statistic:\", f_statistic)\n",
    "print(\"p-value:\", p_value)\n"
   ]
  },
  {
   "cell_type": "code",
   "execution_count": null,
   "id": "285c3bd7",
   "metadata": {},
   "outputs": [],
   "source": [
    "hence the p value is above the significance level i.e 0.05 we Accept the null hypothesis"
   ]
  }
 ],
 "metadata": {
  "kernelspec": {
   "display_name": "Python 3 (ipykernel)",
   "language": "python",
   "name": "python3"
  },
  "language_info": {
   "codemirror_mode": {
    "name": "ipython",
    "version": 3
   },
   "file_extension": ".py",
   "mimetype": "text/x-python",
   "name": "python",
   "nbconvert_exporter": "python",
   "pygments_lexer": "ipython3",
   "version": "3.9.13"
  }
 },
 "nbformat": 4,
 "nbformat_minor": 5
}
