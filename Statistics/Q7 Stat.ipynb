{
 "cells": [
  {
   "cell_type": "code",
   "execution_count": 4,
   "id": "77402d56",
   "metadata": {},
   "outputs": [],
   "source": [
    "#2*X + 3 − 8 = 0 2*Y + X − 5 = 0\n",
    "#variance of X = 4"
   ]
  },
  {
   "cell_type": "code",
   "execution_count": 5,
   "id": "ac603615",
   "metadata": {},
   "outputs": [],
   "source": [
    "import numpy as np"
   ]
  },
  {
   "cell_type": "code",
   "execution_count": 6,
   "id": "584ac64c",
   "metadata": {},
   "outputs": [],
   "source": [
    "eq1 = lambda x: 2 * x + 3 - 8\n",
    "eq2 = lambda y: 2 * y + 2.5 - 5"
   ]
  },
  {
   "cell_type": "code",
   "execution_count": 7,
   "id": "675d105e",
   "metadata": {},
   "outputs": [],
   "source": [
    "var_X = 4"
   ]
  },
  {
   "cell_type": "code",
   "execution_count": 9,
   "id": "78d8bffb",
   "metadata": {},
   "outputs": [],
   "source": [
    "#substituiting 0 in eq 1 and putting the value of X in eq y #\n",
    "X=eq1(0)\n",
    "Y=eq2(X)"
   ]
  },
  {
   "cell_type": "code",
   "execution_count": 12,
   "id": "ca661112",
   "metadata": {},
   "outputs": [
    {
     "name": "stdout",
     "output_type": "stream",
     "text": [
      "Variance of Y: 4\n"
     ]
    }
   ],
   "source": [
    "a.#Variance of Y\n",
    "var_Y=var_X*(1**2)\n",
    "print(\"Variance of Y:\", var_Y)\n"
   ]
  },
  {
   "cell_type": "code",
   "execution_count": 15,
   "id": "42f13dea",
   "metadata": {},
   "outputs": [
    {
     "name": "stdout",
     "output_type": "stream",
     "text": [
      "Coefficient of determination (R^2): 1\n"
     ]
    }
   ],
   "source": [
    "# b. Coefficient of determination \n",
    "\n",
    "R_squared = 1\n",
    "print(\"Coefficient of determination (R^2):\", R_squared)\n",
    "\n"
   ]
  },
  {
   "cell_type": "code",
   "execution_count": 16,
   "id": "5bc341d9",
   "metadata": {},
   "outputs": [],
   "source": [
    "std_error_X_on_Y = np.sqrt((1 - R_squared) * var_X)\n",
    "std_error_Y_on_X = np.sqrt((1 - R_squared) * var_Y)\n"
   ]
  },
  {
   "cell_type": "code",
   "execution_count": 17,
   "id": "9ede2c66",
   "metadata": {},
   "outputs": [
    {
     "name": "stdout",
     "output_type": "stream",
     "text": [
      "Standard error of estimate (X on Y): 0.0\n",
      "Standard error of estimate (Y on X): 0.0\n"
     ]
    }
   ],
   "source": [
    "print(\"Standard error of estimate (X on Y):\", std_error_X_on_Y)\n",
    "print(\"Standard error of estimate (Y on X):\", std_error_Y_on_X)\n"
   ]
  },
  {
   "cell_type": "code",
   "execution_count": null,
   "id": "104d3eb1",
   "metadata": {},
   "outputs": [],
   "source": []
  }
 ],
 "metadata": {
  "kernelspec": {
   "display_name": "Python 3 (ipykernel)",
   "language": "python",
   "name": "python3"
  },
  "language_info": {
   "codemirror_mode": {
    "name": "ipython",
    "version": 3
   },
   "file_extension": ".py",
   "mimetype": "text/x-python",
   "name": "python",
   "nbconvert_exporter": "python",
   "pygments_lexer": "ipython3",
   "version": "3.9.13"
  }
 },
 "nbformat": 4,
 "nbformat_minor": 5
}
