{
 "cells": [
  {
   "cell_type": "code",
   "execution_count": 26,
   "id": "5ae0f13d",
   "metadata": {},
   "outputs": [],
   "source": [
    "import pandas as pd\n",
    "import numpy as np\n",
    "import matplotlib.pyplot as plt\n",
    "import scipy.stats as stats"
   ]
  },
  {
   "cell_type": "code",
   "execution_count": 27,
   "id": "10e82f22",
   "metadata": {},
   "outputs": [],
   "source": [
    "df=pd.read_csv(\"data.csv\")"
   ]
  },
  {
   "cell_type": "code",
   "execution_count": 28,
   "id": "c2f0deea",
   "metadata": {},
   "outputs": [
    {
     "data": {
      "text/html": [
       "<div>\n",
       "<style scoped>\n",
       "    .dataframe tbody tr th:only-of-type {\n",
       "        vertical-align: middle;\n",
       "    }\n",
       "\n",
       "    .dataframe tbody tr th {\n",
       "        vertical-align: top;\n",
       "    }\n",
       "\n",
       "    .dataframe thead th {\n",
       "        text-align: right;\n",
       "    }\n",
       "</style>\n",
       "<table border=\"1\" class=\"dataframe\">\n",
       "  <thead>\n",
       "    <tr style=\"text-align: right;\">\n",
       "      <th></th>\n",
       "      <th>Patient_ID</th>\n",
       "      <th>Blood_Pressure_Before</th>\n",
       "      <th>Blood_Pressure_After</th>\n",
       "    </tr>\n",
       "  </thead>\n",
       "  <tbody>\n",
       "    <tr>\n",
       "      <th>0</th>\n",
       "      <td>1</td>\n",
       "      <td>130</td>\n",
       "      <td>120</td>\n",
       "    </tr>\n",
       "    <tr>\n",
       "      <th>1</th>\n",
       "      <td>2</td>\n",
       "      <td>142</td>\n",
       "      <td>135</td>\n",
       "    </tr>\n",
       "    <tr>\n",
       "      <th>2</th>\n",
       "      <td>3</td>\n",
       "      <td>120</td>\n",
       "      <td>118</td>\n",
       "    </tr>\n",
       "    <tr>\n",
       "      <th>3</th>\n",
       "      <td>4</td>\n",
       "      <td>135</td>\n",
       "      <td>127</td>\n",
       "    </tr>\n",
       "    <tr>\n",
       "      <th>4</th>\n",
       "      <td>5</td>\n",
       "      <td>148</td>\n",
       "      <td>140</td>\n",
       "    </tr>\n",
       "  </tbody>\n",
       "</table>\n",
       "</div>"
      ],
      "text/plain": [
       "   Patient_ID   Blood_Pressure_Before   Blood_Pressure_After\n",
       "0           1                     130                    120\n",
       "1           2                     142                    135\n",
       "2           3                     120                    118\n",
       "3           4                     135                    127\n",
       "4           5                     148                    140"
      ]
     },
     "execution_count": 28,
     "metadata": {},
     "output_type": "execute_result"
    }
   ],
   "source": [
    "df.head()"
   ]
  },
  {
   "cell_type": "code",
   "execution_count": 29,
   "id": "bbcb3da1",
   "metadata": {},
   "outputs": [
    {
     "data": {
      "text/plain": [
       "Patient_ID                 50.50\n",
       " Blood_Pressure_Before    133.91\n",
       " Blood_Pressure_After     128.36\n",
       "dtype: float64"
      ]
     },
     "execution_count": 29,
     "metadata": {},
     "output_type": "execute_result"
    }
   ],
   "source": [
    "df.mean()"
   ]
  },
  {
   "cell_type": "code",
   "execution_count": 73,
   "id": "a9d945e0",
   "metadata": {},
   "outputs": [
    {
     "data": {
      "text/plain": [
       "Patient_ID    int64\n",
       "Before_BP     int64\n",
       "After_BP      int64\n",
       "dtype: object"
      ]
     },
     "execution_count": 73,
     "metadata": {},
     "output_type": "execute_result"
    }
   ],
   "source": [
    "df.dtypes"
   ]
  },
  {
   "cell_type": "code",
   "execution_count": 74,
   "id": "849ecaf0",
   "metadata": {},
   "outputs": [
    {
     "data": {
      "text/plain": [
       "Index(['Patient_ID', 'Before_BP', 'After_BP'], dtype='object')"
      ]
     },
     "execution_count": 74,
     "metadata": {},
     "output_type": "execute_result"
    }
   ],
   "source": [
    "df.columns"
   ]
  },
  {
   "cell_type": "code",
   "execution_count": 30,
   "id": "23bad616",
   "metadata": {},
   "outputs": [
    {
     "data": {
      "text/html": [
       "<div>\n",
       "<style scoped>\n",
       "    .dataframe tbody tr th:only-of-type {\n",
       "        vertical-align: middle;\n",
       "    }\n",
       "\n",
       "    .dataframe tbody tr th {\n",
       "        vertical-align: top;\n",
       "    }\n",
       "\n",
       "    .dataframe thead th {\n",
       "        text-align: right;\n",
       "    }\n",
       "</style>\n",
       "<table border=\"1\" class=\"dataframe\">\n",
       "  <thead>\n",
       "    <tr style=\"text-align: right;\">\n",
       "      <th></th>\n",
       "      <th>Patient_ID</th>\n",
       "      <th>Blood_Pressure_Before</th>\n",
       "      <th>Blood_Pressure_After</th>\n",
       "    </tr>\n",
       "  </thead>\n",
       "  <tbody>\n",
       "    <tr>\n",
       "      <th>count</th>\n",
       "      <td>100.000000</td>\n",
       "      <td>100.000000</td>\n",
       "      <td>100.000000</td>\n",
       "    </tr>\n",
       "    <tr>\n",
       "      <th>mean</th>\n",
       "      <td>50.500000</td>\n",
       "      <td>133.910000</td>\n",
       "      <td>128.360000</td>\n",
       "    </tr>\n",
       "    <tr>\n",
       "      <th>std</th>\n",
       "      <td>29.011492</td>\n",
       "      <td>6.598278</td>\n",
       "      <td>6.888022</td>\n",
       "    </tr>\n",
       "    <tr>\n",
       "      <th>min</th>\n",
       "      <td>1.000000</td>\n",
       "      <td>120.000000</td>\n",
       "      <td>118.000000</td>\n",
       "    </tr>\n",
       "    <tr>\n",
       "      <th>25%</th>\n",
       "      <td>25.750000</td>\n",
       "      <td>128.000000</td>\n",
       "      <td>123.000000</td>\n",
       "    </tr>\n",
       "    <tr>\n",
       "      <th>50%</th>\n",
       "      <td>50.500000</td>\n",
       "      <td>135.000000</td>\n",
       "      <td>128.000000</td>\n",
       "    </tr>\n",
       "    <tr>\n",
       "      <th>75%</th>\n",
       "      <td>75.250000</td>\n",
       "      <td>139.250000</td>\n",
       "      <td>135.000000</td>\n",
       "    </tr>\n",
       "    <tr>\n",
       "      <th>max</th>\n",
       "      <td>100.000000</td>\n",
       "      <td>148.000000</td>\n",
       "      <td>141.000000</td>\n",
       "    </tr>\n",
       "  </tbody>\n",
       "</table>\n",
       "</div>"
      ],
      "text/plain": [
       "       Patient_ID   Blood_Pressure_Before   Blood_Pressure_After\n",
       "count  100.000000              100.000000             100.000000\n",
       "mean    50.500000              133.910000             128.360000\n",
       "std     29.011492                6.598278               6.888022\n",
       "min      1.000000              120.000000             118.000000\n",
       "25%     25.750000              128.000000             123.000000\n",
       "50%     50.500000              135.000000             128.000000\n",
       "75%     75.250000              139.250000             135.000000\n",
       "max    100.000000              148.000000             141.000000"
      ]
     },
     "execution_count": 30,
     "metadata": {},
     "output_type": "execute_result"
    }
   ],
   "source": [
    "df.describe()"
   ]
  },
  {
   "cell_type": "code",
   "execution_count": 31,
   "id": "020ba1a8",
   "metadata": {},
   "outputs": [],
   "source": [
    "mean_before= 133.91\n",
    "mean_after=128.36"
   ]
  },
  {
   "cell_type": "code",
   "execution_count": 60,
   "id": "2d04ceb9",
   "metadata": {},
   "outputs": [],
   "source": [
    "new_columns = ['Patient_ID', 'Before_BP', 'After_BP']\n"
   ]
  },
  {
   "cell_type": "code",
   "execution_count": 61,
   "id": "cb445312",
   "metadata": {},
   "outputs": [],
   "source": [
    "df.columns = new_columns\n"
   ]
  },
  {
   "cell_type": "code",
   "execution_count": 62,
   "id": "58a55f60",
   "metadata": {},
   "outputs": [
    {
     "name": "stdout",
     "output_type": "stream",
     "text": [
      "Index(['Patient_ID', 'Before_BP', 'After_BP'], dtype='object')\n",
      "Patient_ID    int64\n",
      "Before_BP     int64\n",
      "After_BP      int64\n",
      "dtype: object\n"
     ]
    }
   ],
   "source": [
    "print(df.columns)\n",
    "print(df.dtypes)"
   ]
  },
  {
   "cell_type": "code",
   "execution_count": 64,
   "id": "c502cd8c",
   "metadata": {},
   "outputs": [],
   "source": [
    "before_range = np.ptp(df['Before_BP'])\n",
    "after_range = np.ptp(df['After_BP'])\n"
   ]
  },
  {
   "cell_type": "code",
   "execution_count": 65,
   "id": "e02fd30e",
   "metadata": {},
   "outputs": [],
   "source": [
    "before_variance = np.var(df['Before_BP'])\n",
    "after_variance = np.var(df['After_BP'])"
   ]
  },
  {
   "cell_type": "code",
   "execution_count": 66,
   "id": "f41d84fc",
   "metadata": {},
   "outputs": [
    {
     "name": "stdout",
     "output_type": "stream",
     "text": [
      "Range of 'Before_BP': 28\n",
      "Range of 'After_BP': 23\n",
      "Variance of 'Before_BP': 43.10189999999998\n",
      "Variance of 'After_BP': 46.97040000000002\n"
     ]
    }
   ],
   "source": [
    "print(\"Range of 'Before_BP':\", before_range)\n",
    "print(\"Range of 'After_BP':\", after_range)\n",
    "print(\"Variance of 'Before_BP':\", before_variance)\n",
    "print(\"Variance of 'After_BP':\", after_variance)"
   ]
  },
  {
   "cell_type": "code",
   "execution_count": 67,
   "id": "7f6fb605",
   "metadata": {},
   "outputs": [],
   "source": [
    "# Calculate mean and confidence interval\n",
    "before_mean = df['Before_BP'].mean()\n",
    "before_ci = stats.t.interval(0.95, len(df['Before_BP'])-1, loc=before_mean, scale=stats.sem(df['Before_BP']))\n"
   ]
  },
  {
   "cell_type": "code",
   "execution_count": 70,
   "id": "64918621",
   "metadata": {},
   "outputs": [],
   "source": [
    "after_mean = df['After_BP'].mean()\n",
    "after_ci = stats.t.interval(0.95, len(df['After_BP'])-1, loc=after_mean, scale=stats.sem(df['After_BP']))"
   ]
  },
  {
   "cell_type": "code",
   "execution_count": 71,
   "id": "e3529691",
   "metadata": {},
   "outputs": [
    {
     "data": {
      "image/png": "[encoded data removed]",
      "text/plain": [
       "<Figure size 640x480 with 1 Axes>"
      ]
     },
     "metadata": {},
     "output_type": "display_data"
    }
   ],
   "source": [
    "plt.errorbar(['Before_BP', 'After_BP'], [before_mean, after_mean], yerr=[before_ci[1]-before_mean, after_ci[1]-after_mean], fmt='o')\n",
    "plt.ylabel('Mean')\n",
    "plt.title('Mean and 95% Confidence Interval')\n",
    "plt.show()"
   ]
  },
  {
   "cell_type": "code",
   "execution_count": 72,
   "id": "901ef15c",
   "metadata": {},
   "outputs": [
    {
     "name": "stdout",
     "output_type": "stream",
     "text": [
      "Mean Absolute Deviation of 'Before_BP': 5.7118\n",
      "Mean Absolute Deviation of 'After_BP': 5.9\n"
     ]
    }
   ],
   "source": [
    "before_mad = np.mean(np.abs(df['Before_BP'] - before_mean))\n",
    "after_mad = np.mean(np.abs(df['After_BP'] - after_mean))\n",
    "print(\"Mean Absolute Deviation of 'Before_BP':\", before_mad)\n",
    "print(\"Mean Absolute Deviation of 'After_BP':\", after_mad)"
   ]
  },
  {
   "cell_type": "code",
   "execution_count": null,
   "id": "a5fe98aa",
   "metadata": {},
   "outputs": [],
   "source": []
  }
 ],
 "metadata": {
  "kernelspec": {
   "display_name": "Python 3 (ipykernel)",
   "language": "python",
   "name": "python3"
  },
  "language_info": {
   "codemirror_mode": {
    "name": "ipython",
    "version": 3
   },
   "file_extension": ".py",
   "mimetype": "text/x-python",
   "name": "python",
   "nbconvert_exporter": "python",
   "pygments_lexer": "ipython3",
   "version": "3.9.13"
  }
 },
 "nbformat": 4,
 "nbformat_minor": 5
}
