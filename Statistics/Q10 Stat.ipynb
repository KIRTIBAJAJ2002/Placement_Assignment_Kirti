{
 "cells": [
  {
   "cell_type": "code",
   "execution_count": 2,
   "id": "2872d915",
   "metadata": {},
   "outputs": [
    {
     "name": "stdout",
     "output_type": "stream",
     "text": [
      "Probability of exactly 20 defective bulbs: 0.05161619253663997\n",
      "Probability of at least 10 defective bulbs: 0.9998316463654692\n",
      "Probability of at most 15 defective bulbs: 0.019858377163006223\n",
      "Expected number of defective bulbs: 25.0\n"
     ]
    }
   ],
   "source": [
    "import math\n",
    "\n",
    "\n",
    "n = 500  # Total number of bulbs\n",
    "p = 0.05  # Probability of a bulb being defective\n",
    "\n",
    "# a. \n",
    "k = 20\n",
    "prob_20_defective = math.comb(n, k) * p ** k * (1 - p) ** (n - k)\n",
    "print(\"Probability of exactly 20 defective bulbs:\", prob_20_defective)\n",
    "\n",
    "# b. \n",
    "prob_at_least_10_defective = sum(\n",
    "    math.comb(n, k) * p ** k * (1 - p) ** (n - k)\n",
    "    for k in range(10, n + 1)\n",
    ")\n",
    "print(\"Probability of at least 10 defective bulbs:\", prob_at_least_10_defective)\n",
    "\n",
    "# c. \n",
    "prob_at_most_15_defective = sum(\n",
    "    math.comb(n, k) * p ** k * (1 - p) ** (n - k)\n",
    "    for k in range(16)\n",
    ")\n",
    "print(\"Probability of at most 15 defective bulbs:\", prob_at_most_15_defective)\n",
    "\n",
    "# d. \n",
    "expected_defective_bulbs = n * p\n",
    "print(\"Expected number of defective bulbs:\", expected_defective_bulbs)\n"
   ]
  },
  {
   "cell_type": "code",
   "execution_count": null,
   "id": "f273153d",
   "metadata": {},
   "outputs": [],
   "source": []
  }
 ],
 "metadata": {
  "kernelspec": {
   "display_name": "Python 3 (ipykernel)",
   "language": "python",
   "name": "python3"
  },
  "language_info": {
   "codemirror_mode": {
    "name": "ipython",
    "version": 3
   },
   "file_extension": ".py",
   "mimetype": "text/x-python",
   "name": "python",
   "nbconvert_exporter": "python",
   "pygments_lexer": "ipython3",
   "version": "3.9.13"
  }
 },
 "nbformat": 4,
 "nbformat_minor": 5
}
